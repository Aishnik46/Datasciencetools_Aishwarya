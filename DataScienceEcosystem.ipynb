{
  "metadata": {
    "kernelspec": {
      "name": "python",
      "display_name": "Python (Pyodide)",
      "language": "python"
    },
    "language_info": {
      "codemirror_mode": {
        "name": "python",
        "version": 3
      },
      "file_extension": ".py",
      "mimetype": "text/x-python",
      "name": "python",
      "nbconvert_exporter": "python",
      "pygments_lexer": "ipython3",
      "version": "3.8"
    }
  },
  "nbformat_minor": 4,
  "nbformat": 4,
  "cells": [
    {
      "cell_type": "markdown",
      "source": "# Data Science Tools and Ecosystem",
      "metadata": {}
    },
    {
      "cell_type": "markdown",
      "source": "## In this notebook, Data Science Tools and Ecosystem are summarized.",
      "metadata": {}
    },
    {
      "cell_type": "markdown",
      "source": "### Data Management Tools:\r\n\r\nMySQIBM Db2, SQL Server , and PostgreSQL are examples ce Relational Database Management Syste(RDBMS).\r\n\r\nMongoDB and Apache Cassandra are examples of NoSQL databaes.\r\n\r\nApache Hadoop and Apache Spark are used for Big Data analydata analysis.  \r\n\r\n",
      "metadata": {}
    },
    {
      "cell_type": "markdown",
      "source": "### Data Integration and Transformation Tools: \ninclude Apache Airflow and Apache Kafka. ",
      "metadata": {}
    },
    {
      "cell_type": "markdown",
      "source": "### Data Visualization Tools:\ninclude commercial offerings  such as Cognos Analytics, Tableau and PowerBI  and can be used for building dynamic and interactive dashboards.  ",
      "metadata": {}
    },
    {
      "cell_type": "markdown",
      "source": "### Code Asset Management Tools:\nGit is an essential code asset management tool. \nGitHub is a popular web-based platform for storing and managing source code",
      "metadata": {}
    },
    {
      "cell_type": "markdown",
      "source": "### Development Environments: \nPopular development environments for Data Science include Jupyter Notebooks and RStudio. ",
      "metadata": {}
    },
    {
      "cell_type": "markdown",
      "source": "# Some of the popular languages that Data Scientists use are:",
      "metadata": {}
    },
    {
      "cell_type": "markdown",
      "source": "1. Python\n2. R\n3. SQL\n4. Scala\n5. Java\n6. C++\n7. Julia",
      "metadata": {}
    },
    {
      "cell_type": "markdown",
      "source": "## Some of the commonly used libraries used by Data Scientists include:",
      "metadata": {}
    },
    {
      "cell_type": "markdown",
      "source": "1. Scientific Computing libraries- Pandas, Numpy\n2. Visualization librabries- Matplotlib, Seaborn\n3. Machine learning Libraries- Scikit-learn\n4. Scala libraries-Vegas,Big DL\n5. R libraries- ggplot2",
      "metadata": {}
    },
    {
      "cell_type": "markdown",
      "source": "|Data Science Tools|\n|----------------|\n|R Studio|\n|Jupyter Notebook   |\n|Jupyter lab|\n|Apache Zepplin |\n|Spyder|",
      "metadata": {}
    },
    {
      "cell_type": "markdown",
      "source": "### Below are a few examples of evaluating arithmetic expressions in Python",
      "metadata": {}
    },
    {
      "cell_type": "code",
      "source": "# This a simple arithmetic expression to mutiply then add integers.",
      "metadata": {
        "trusted": true
      },
      "outputs": [],
      "execution_count": 3
    },
    {
      "cell_type": "code",
      "source": "(3*4)+5",
      "metadata": {
        "trusted": true
      },
      "outputs": [
        {
          "execution_count": 4,
          "output_type": "execute_result",
          "data": {
            "text/plain": "17"
          },
          "metadata": {}
        }
      ],
      "execution_count": 4
    },
    {
      "cell_type": "markdown",
      "source": "###  write an expression that converts 200 minutes into hours.",
      "metadata": {}
    },
    {
      "cell_type": "code",
      "source": "# This will convert 200 minutes to hours by diving by 60.",
      "metadata": {
        "trusted": true
      },
      "outputs": [],
      "execution_count": 5
    },
    {
      "cell_type": "code",
      "source": "200/60",
      "metadata": {
        "trusted": true
      },
      "outputs": [
        {
          "execution_count": 6,
          "output_type": "execute_result",
          "data": {
            "text/plain": "3.3333333333333335"
          },
          "metadata": {}
        }
      ],
      "execution_count": 6
    },
    {
      "cell_type": "markdown",
      "source": "__Objectives__",
      "metadata": {}
    },
    {
      "cell_type": "markdown",
      "source": "Data Management Tools:\nMySQIBM Db2, SQL Server , and PostgreSQL are examples ce Relational Database Management Syste(RDBMS).\n\nMongoDB and Apache Cassandra are examples of NoSQL databaes.\n\nApache Hadoop and Apache Spark are used for Big Data analydata analysis.\n\nData Integration and Transformation Tools:\ninclude Apache Airflow and Apache Kafka.\n\nData Visualization Tools:\ninclude commercial offerings such as Cognos Analytics, Tableau and PowerBI and can be used for building dynamic and interactive dashboards.\n\nCode Asset Management Tools:\nGit is an essential code asset management tool. GitHub is a popular web-based platform for storing and managing source code\n\nDevelopment Environments:\nPopular development environments for Data Science include Jupyter Notebooks and RStudio.",
      "metadata": {}
    },
    {
      "cell_type": "markdown",
      "source": "__List popular languages for Data Science__",
      "metadata": {}
    },
    {
      "cell_type": "markdown",
      "source": "*  Python\n*  Julia\n*  R\n*  SQL\n*  Scala\n*  java\n*  C++\n*  \nJulia",
      "metadata": {}
    },
    {
      "cell_type": "markdown",
      "source": "## Author",
      "metadata": {}
    },
    {
      "cell_type": "markdown",
      "source": "Aishwarya Shinde",
      "metadata": {}
    },
    {
      "cell_type": "code",
      "source": "",
      "metadata": {
        "trusted": true
      },
      "outputs": [],
      "execution_count": null
    }
  ]
}